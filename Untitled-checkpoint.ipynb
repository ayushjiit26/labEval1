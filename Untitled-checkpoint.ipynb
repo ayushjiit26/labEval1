{
 "cells": [
  {
   "cell_type": "code",
   "execution_count": 1,
   "id": "2681e6e5",
   "metadata": {},
   "outputs": [
    {
     "name": "stdout",
     "output_type": "stream",
     "text": [
      "hello\n"
     ]
    }
   ],
   "source": [
    "print(\"hello\")"
   ]
  },
  {
   "cell_type": "code",
   "execution_count": 21,
   "id": "75a5cb97",
   "metadata": {},
   "outputs": [
    {
     "name": "stdout",
     "output_type": "stream",
     "text": [
      "World In Nile The While India In River Longest The Is Ganges The\n"
     ]
    }
   ],
   "source": [
    "def reversedString(test):\n",
    "    words = test.split()\n",
    "    reversed_string = words[::-1]\n",
    "    capitalized_words = [word.capitalize() for word in reversed_string]\n",
    "    return \" \".join(capitalized_words)\n",
    "\n",
    "test = \"The Ganges is the longest river in India while The Nile in World\"\n",
    "print(reversedString(test))"
   ]
  },
  {
   "cell_type": "code",
   "execution_count": 20,
   "id": "0eb2202e",
   "metadata": {},
   "outputs": [
    {
     "name": "stdout",
     "output_type": "stream",
     "text": [
      "{'TCS': 1, 'is': 1, 'the': 2, 'largest': 2, 'IT': 1, 'service': 1, 'company': 1, 'in': 2, 'India,': 1, 'headquartered': 1, 'Mumbai,': 1, 'and': 1, 'also': 1, 'employee': 1, 'base.': 1}\n",
      "\n",
      "\n",
      "{'T': 2, 'C': 1, 'S': 1, 'i': 6, 's': 6, 't': 5, 'h': 3, 'e': 13, 'l': 4, 'a': 10, 'r': 5, 'g': 2, 'I': 2, 'v': 1, 'c': 2, 'o': 3, 'm': 3, 'p': 2, 'n': 5, 'y': 2, 'd': 4, ',': 2, 'q': 1, 'u': 2, 'M': 1, 'b': 2, '.': 1}\n"
     ]
    }
   ],
   "source": [
    "freqWord = {}\n",
    "words = sentence.split()\n",
    "for word in words:\n",
    "    if word in freqWord:\n",
    "        freqWord[word] = freqWord[word]+1\n",
    "    else:\n",
    "        freqWord[word] = 1\n",
    "freqChar = {}\n",
    "for word in words:\n",
    "    for char in word:\n",
    "        if char in freqChar:\n",
    "            freqChar[char] = freqChar[char] +1\n",
    "        else:\n",
    "            freqChar[char] = 1\n",
    "        \n",
    "print(freqWord)\n",
    "print(\"\\n\")\n",
    "print(freqChar)\n",
    "\n",
    "sentence = \"TCS is the largest IT service company in India, headquartered in Mumbai, and also the largest employee base.\""
   ]
  },
  {
   "cell_type": "code",
   "execution_count": null,
   "id": "5890a123",
   "metadata": {},
   "outputs": [],
   "source": []
  }
 ],
 "metadata": {
  "kernelspec": {
   "display_name": "Python 3 (ipykernel)",
   "language": "python",
   "name": "python3"
  },
  "language_info": {
   "codemirror_mode": {
    "name": "ipython",
    "version": 3
   },
   "file_extension": ".py",
   "mimetype": "text/x-python",
   "name": "python",
   "nbconvert_exporter": "python",
   "pygments_lexer": "ipython3",
   "version": "3.11.5"
  }
 },
 "nbformat": 4,
 "nbformat_minor": 5
}
